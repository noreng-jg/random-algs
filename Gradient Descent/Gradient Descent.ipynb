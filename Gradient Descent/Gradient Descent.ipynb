{
 "cells": [
  {
   "cell_type": "markdown",
   "metadata": {},
   "source": [
    "## Aplicação\n",
    "\n",
    "Pela definição da função hipótese da regressão linear de duas variáveis,temos que :\n",
    "\n",
    "\n",
    "$$[1]: h_\\theta(x_1, x_2)=\\theta_0 + \\theta_1.x_1 + \\theta_2.x_2$$ \n",
    "\n",
    "\n",
    "E a função de custo é caracterizada por:\n",
    "\n",
    "$$[2]: J(\\theta_0,\\theta_1, \\theta_2)=\\frac{1}{2.m}\\sum_{i=1}^{m}[h_\\theta(x_1^{(i)}, x_2^{(i)})-y_i]^2$$\n",
    "\n",
    "Pelo Método do 'Gradient Descent', devemos tomar varias iterações partindo de um valor previamente definido de $\\theta_1$ e $\\theta_2$, e partir daí, tomarmos a derivada multiplicada pela taxa de aprendizado, para atualizarmos os pesos do hiperplano que fornece uma aproximação linear de modo a minimizarmos o custo. Matematicamente, aplicamos a definição de gradiente na equação $[2]$:\n",
    "\n",
    "Substituindo $[1]$ em $[2]$ e desenvolvendo esta última equação teremos:\n",
    "\n",
    "$$[2.1]:  \\frac{\\partial{J(\\theta_0,\\theta_1,\\theta_2)}}{\\partial{\\theta_0}} = \\frac{1}{2.m}\\sum_{i=1}^{m} 2.[h_\\theta(x_1^{(i)}, x_2^{(i)})-y_i].[1]$$\n",
    "$$[2.2]:  \\frac{\\partial{J(\\theta_0,\\theta_1,\\theta_2)}}{\\partial{\\theta_1}} = \\frac{1}{2.m}\\sum_{i=1}^{m} 2.[h_\\theta(x_1^{(i)}, x_2^{(i)})-y_i].[x_1^{(i)}]$$\n",
    "$$[2.3]:  \\frac{\\partial{J(\\theta_0,\\theta_1,\\theta_2)}}{\\partial{\\theta_2}} = \\frac{1}{2.m}\\sum_{i=1}^{m} 2.[h_\\theta(x_1^{(i)}, x_2^{(i)})-y_i].[x_2^{(i)}]$$\n",
    "\n",
    "\n",
    "Ao atualizarmos os valores de com o tempo teremos:\n",
    "\n",
    "\n",
    "$$[3.1] :\\theta_0 = \\theta_0 - \\alpha . \\frac{\\partial{J(\\theta_0,\\theta_1,\\theta_2)}}{\\partial{\\theta_0}}$$\n",
    "\n",
    "$$[3.2]: \\theta_1 = \\theta_1 - \\alpha . \\frac{\\partial{J(\\theta_0,\\theta_1,\\theta_2)}}{\\partial{\\theta_1}}$$\n",
    "\n",
    "$$[3.3]: \\theta_2 = \\theta_2 - \\alpha . \\frac{\\partial{J(\\theta_0,\\theta_1,\\theta_2)}}{\\partial{\\theta_2}}$$\n",
    "\n",
    "\n",
    "Repetimos os valores quantas iterações quanto necessário, na simulação abaixo com Python considerei uma taxa de aprendizado de $10^{-7}$ e cerca de 1000 iterações:\n"
   ]
  },
  {
   "cell_type": "code",
   "execution_count": 46,
   "metadata": {},
   "outputs": [
    {
     "data": {
      "image/png": "[encoded data removed]",
      "text/plain": [
       "<Figure size 432x288 with 2 Axes>"
      ]
     },
     "metadata": {
      "needs_background": "light"
     },
     "output_type": "display_data"
    }
   ],
   "source": [
    "import numpy as np\n",
    "import pandas as pd\n",
    "import matplotlib.pyplot as plt\n",
    "import math\n",
    "\n",
    "#Gerando dados aleatórios\n",
    "larea=np.random.randint(900,3000,18)\n",
    "price=np.random.randint(200,600,18)\n",
    "bedrooms=np.random.randint(2,6,18)\n",
    "\n",
    "def h(x1,x2, t0=0.0, t1=0.0, t2=0.0):#Função de hipótese para dados dois pontos x\n",
    "    return theta0 + theta1*x1 + theta2*x2\n",
    "    \n",
    "def J(x,y,p,num=0):#Implementação da Função de Custo\n",
    "    num=[(h(x[i],y[i])-p[i])**2 for i in range(len(x))]\n",
    "    return sum(num)/2\n",
    "\n",
    "#inicialização dos pesos\n",
    "theta0,theta1,theta2=0.0,0.0,0.0\n",
    "\n",
    "#médias dos vetores\n",
    "lam,pm,bm=np.mean(larea),np.mean(bedrooms),np.mean(price)\n",
    "\n",
    "#Aplicação do \"feature scaling\"\n",
    "lanorm=[(xi-lam)/(max(larea)-min(larea)) for xi in larea]  \n",
    "pricenorm=[(xi-pm)/(max(price)-min(price)) for xi in price]  \n",
    "bnorm=[(xi-pm)/(max(bedrooms)-min(bedrooms)) for xi in bedrooms]  \n",
    "\n",
    "#taxa de aprendizagem\n",
    "alfa=1*1e-7\n",
    "\n",
    "#Ordenando os vetores\n",
    "larea=np.sort(larea)\n",
    "price=np.sort(price)\n",
    "bedrooms=np.sort(bedrooms)\n",
    "\n",
    "pd.DataFrame({'Living Area':larea, 'Bedrooms':bedrooms, 'Price':price}).to_excel('Precos.xlsx')\n",
    "\n",
    "ltheta0,ltheta1,ltheta2=[],[],[]\n",
    "\n",
    "for i in range(1000):\n",
    "    #Atualização dos pesos via \"Gradient Descent\" através da derivada da função custo\n",
    "    theta0-=alfa*(sum([(h(larea[i],bedrooms[i],t0=theta0,t1=theta1,t2=theta2)-price[i]) for i in range(len(larea))])/18)\n",
    "    theta1-=alfa*(sum([(h(larea[i],bedrooms[i],t0=theta0,t1=theta1,t2=theta2)-price[i])*(larea[i]) for i in range(len(larea))])/18)\n",
    "    theta2-=alfa*(sum([(h(larea[i],bedrooms[i],t0=theta0,t1=theta1,t2=theta2)-price[i])*(bedrooms[i]) for i in range(len(larea))])/18)\n",
    "    ltheta0.append(theta0);ltheta1.append(theta1);ltheta2.append(theta2)\n",
    "\n",
    "df=pd.DataFrame({'Theta0':ltheta0, 'Theta1':ltheta1, 'Theta2':ltheta2})\n",
    "#Salvando dados no Excel\n",
    "df.to_excel(\"Ajustes dos pesos.xlsx\")\n",
    "\n",
    "#Vetor hipótese\n",
    "hip=h(larea,bedrooms,theta0,theta1,theta2)\n",
    "\n",
    "plt.subplot(211)\n",
    "plt.plot(bedrooms,price,'rx')\n",
    "plt.plot(bedrooms,hip)\n",
    "plt.plot()\n",
    "plt.subplot(212)\n",
    "plt.plot(larea, price,'rx')\n",
    "plt.plot(larea,hip)\n",
    "\n",
    "plt.savefig('gráficos.png')\n",
    "plt.show()\n",
    "\n",
    "\n"
   ]
  },
  {
   "cell_type": "markdown",
   "metadata": {},
   "source": [
    "Obteve-se a partir de então os gráficos da função hipótese, assim como os diversos pontos randômicos em um mesmo plot. Ocorreu um erro de regressão da quantidade de quartos que acabou sofrendo uma deformação imprevista, porém a área em função do preço adaptou-se corretamente."
   ]
  },
  {
   "cell_type": "markdown",
   "metadata": {},
   "source": [
    "## Referências:\n",
    "$[1]$:CS229 Lecture notes, por Andrew Ng"
   ]
  }
 ],
 "metadata": {
  "kernelspec": {
   "display_name": "Python 3",
   "language": "python",
   "name": "python3"
  },
  "language_info": {
   "codemirror_mode": {
    "name": "ipython",
    "version": 3
   },
   "file_extension": ".py",
   "mimetype": "text/x-python",
   "name": "python",
   "nbconvert_exporter": "python",
   "pygments_lexer": "ipython3",
   "version": "3.6.8"
  }
 },
 "nbformat": 4,
 "nbformat_minor": 2
}
